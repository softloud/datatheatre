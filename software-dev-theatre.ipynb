{
 "cells": [
  {
   "cell_type": "code",
   "execution_count": 26,
   "metadata": {},
   "outputs": [],
   "source": [
    "import pandas as pd\n",
    "import numpy as np\n",
    "from itertools import chain\n"
   ]
  },
  {
   "cell_type": "markdown",
   "metadata": {},
   "source": [
    "## Game parameters\n",
    "\n",
    "- Each day has 3 actions - start with one\n",
    "- Actions can be meeting, break with colleagues, work, passion project\n",
    "- Success or failure is measured by bugs and tasks"
   ]
  },
  {
   "cell_type": "code",
   "execution_count": 27,
   "metadata": {},
   "outputs": [],
   "source": [
    "# set game parameters\n",
    "\n",
    "# set number of days\n",
    "total_days_of_play = 3\n",
    "\n",
    "# set starting number of bugs\n",
    "init_bugs = 3\n",
    "init_tasks = 2\n",
    "\n",
    "# action initialisation\n",
    "daily_action_init = ['meeting', 'choice', 'choice']\n"
   ]
  },
  {
   "cell_type": "markdown",
   "metadata": {},
   "source": [
    "## Datasets\n",
    "\n",
    "### Daily actions\n",
    "\n",
    "One row per action per day; three rows per day. \n",
    "\n",
    "Row needs to record: which day of play, and what action was taken. \n",
    "\n",
    "Order matters, so we'll set a day index (1:3).\n",
    "\n",
    "day | action | day_index | choice | outcome\n",
    "--|--|--|--|--\n",
    "\n"
   ]
  },
  {
   "cell_type": "code",
   "execution_count": 28,
   "metadata": {},
   "outputs": [
    {
     "data": {
      "text/plain": [
       "'<table border=\"1\" class=\"dataframe\">\\n  <thead>\\n    <tr style=\"text-align: right;\">\\n      <th></th>\\n      <th>day_of_play</th>\\n      <th>action</th>\\n      <th>action_index</th>\\n      <th>bugs</th>\\n      <th>tasks</th>\\n      <th>choice</th>\\n      <th>outcome</th>\\n    </tr>\\n  </thead>\\n  <tbody>\\n    <tr>\\n      <th>0</th>\\n      <td>0</td>\\n      <td>meeting</td>\\n      <td>0</td>\\n      <td>3</td>\\n      <td>2</td>\\n      <td>pending</td>\\n      <td>pending</td>\\n    </tr>\\n    <tr>\\n      <th>1</th>\\n      <td>0</td>\\n      <td>choice</td>\\n      <td>1</td>\\n      <td>3</td>\\n      <td>2</td>\\n      <td>pending</td>\\n      <td>pending</td>\\n    </tr>\\n    <tr>\\n      <th>2</th>\\n      <td>0</td>\\n      <td>choice</td>\\n      <td>2</td>\\n      <td>3</td>\\n      <td>2</td>\\n      <td>pending</td>\\n      <td>pending</td>\\n    </tr>\\n    <tr>\\n      <th>3</th>\\n      <td>1</td>\\n      <td>meeting</td>\\n      <td>0</td>\\n      <td>3</td>\\n      <td>2</td>\\n      <td>pending</td>\\n      <td>pending</td>\\n    </tr>\\n    <tr>\\n      <th>4</th>\\n      <td>1</td>\\n      <td>choice</td>\\n      <td>1</td>\\n      <td>3</td>\\n      <td>2</td>\\n      <td>pending</td>\\n      <td>pending</td>\\n    </tr>\\n    <tr>\\n      <th>5</th>\\n      <td>1</td>\\n      <td>choice</td>\\n      <td>2</td>\\n      <td>3</td>\\n      <td>2</td>\\n      <td>pending</td>\\n      <td>pending</td>\\n    </tr>\\n    <tr>\\n      <th>6</th>\\n      <td>2</td>\\n      <td>meeting</td>\\n      <td>0</td>\\n      <td>3</td>\\n      <td>2</td>\\n      <td>pending</td>\\n      <td>pending</td>\\n    </tr>\\n    <tr>\\n      <th>7</th>\\n      <td>2</td>\\n      <td>choice</td>\\n      <td>1</td>\\n      <td>3</td>\\n      <td>2</td>\\n      <td>pending</td>\\n      <td>pending</td>\\n    </tr>\\n    <tr>\\n      <th>8</th>\\n      <td>2</td>\\n      <td>choice</td>\\n      <td>2</td>\\n      <td>3</td>\\n      <td>2</td>\\n      <td>pending</td>\\n      <td>pending</td>\\n    </tr>\\n  </tbody>\\n</table>'"
      ]
     },
     "execution_count": 28,
     "metadata": {},
     "output_type": "execute_result"
    }
   ],
   "source": [
    "daily_actions_init = pd.DataFrame({                             \n",
    "    'day_of_play' : [day for day in range(total_days_of_play) for i in range(total_days_of_play)],\n",
    "    'action' : list(chain.from_iterable([daily_action_init for i in range(total_days_of_play)])),\n",
    "    'action_index' : list(chain.from_iterable([range(total_days_of_play) for i in range(total_days_of_play)]))\n",
    "}).assign(\n",
    "    bugs = 3,\n",
    "    tasks = 2,\n",
    "    choice = 'pending',\n",
    "    outcome = 'pending'    \n",
    ")\n",
    "\n",
    "\n",
    "daily_actions_init.to_html()\n"
   ]
  },
  {
   "cell_type": "code",
   "execution_count": null,
   "metadata": {},
   "outputs": [],
   "source": [
    "\n"
   ]
  },
  {
   "cell_type": "markdown",
   "metadata": {},
   "source": [
    "### Game events\n",
    "\n",
    "Actions are one type of event, but in terms of inspecting the game in order, then text is output. Starting, winning, losing conditions need to be reported. \n",
    "\n",
    "The game will be reported as a table, wherein each row is a chronological event. \n",
    "\n",
    "Each meeting delivers at least one new bug or task. "
   ]
  },
  {
   "cell_type": "markdown",
   "metadata": {},
   "source": [
    "### What is winning?\n",
    "\n",
    "If bugs and tasks equal 0. "
   ]
  },
  {
   "cell_type": "markdown",
   "metadata": {},
   "source": [
    "## Game events"
   ]
  },
  {
   "cell_type": "markdown",
   "metadata": {},
   "source": [
    "### Start"
   ]
  },
  {
   "cell_type": "code",
   "execution_count": 29,
   "metadata": {},
   "outputs": [],
   "source": [
    "\n",
    "\n",
    "startup_text = \"Good morning, Engineer #LV-426-306. Welcome to your first day at Y-Corp, where Why? is for us to know, and you to close tasks and debug code.\"\n"
   ]
  },
  {
   "cell_type": "markdown",
   "metadata": {},
   "source": [
    "## Game simulation\n",
    "\n",
    "### Bounding simulation\n",
    "\n",
    "Explore what proportions should be set. \n",
    "\n",
    "Suppose we set at least 1 meeting a day, and two other actions chosen randomly.\n",
    "\n"
   ]
  },
  {
   "cell_type": "code",
   "execution_count": null,
   "metadata": {},
   "outputs": [],
   "source": []
  },
  {
   "cell_type": "markdown",
   "metadata": {},
   "source": []
  },
  {
   "cell_type": "markdown",
   "metadata": {},
   "source": []
  },
  {
   "cell_type": "code",
   "execution_count": 32,
   "metadata": {},
   "outputs": [
    {
     "data": {
      "text/plain": [
       "'<table border=\"1\" class=\"dataframe\">\\n  <thead>\\n    <tr style=\"text-align: right;\">\\n      <th></th>\\n      <th>day_of_play</th>\\n      <th>event</th>\\n      <th>outcome</th>\\n    </tr>\\n  </thead>\\n  <tbody>\\n    <tr>\\n      <th>0</th>\\n      <td>0</td>\\n      <td>start</td>\\n      <td>Good morning, Engineer #LV-426-306. Welcome to your first day at Y-Corp, where Why? is for us to know, and you to close tasks and debug code.</td>\\n    </tr>\\n  </tbody>\\n</table>'"
      ]
     },
     "execution_count": 32,
     "metadata": {},
     "output_type": "execute_result"
    }
   ],
   "source": [
    "# day one\n",
    "pd.DataFrame({'day_of_play' : [0], \n",
    "              'event' : ['start'],\n",
    "              'outcome' : [startup_t ext]}).to_html()\n",
    "\n"
   ]
  }
 ],
 "metadata": {
  "kernelspec": {
   "display_name": "Python 3",
   "language": "python",
   "name": "python3"
  },
  "language_info": {
   "codemirror_mode": {
    "name": "ipython",
    "version": 3
   },
   "file_extension": ".py",
   "mimetype": "text/x-python",
   "name": "python",
   "nbconvert_exporter": "python",
   "pygments_lexer": "ipython3",
   "version": "3.10.12"
  },
  "orig_nbformat": 4
 },
 "nbformat": 4,
 "nbformat_minor": 2
}
