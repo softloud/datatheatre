{
 "cells": [
  {
   "cell_type": "code",
   "execution_count": 1,
   "metadata": {},
   "outputs": [
    {
     "name": "stdout",
     "output_type": "stream",
     "text": [
      "pygame 2.1.2 (SDL 2.0.20, Python 3.10.12)\n",
      "Hello from the pygame community. https://www.pygame.org/contribute.html\n"
     ]
    },
    {
     "name": "stderr",
     "output_type": "stream",
     "text": [
      "/home/cantabile/.local/lib/python3.10/site-packages/lazy_loader/__init__.py:185: RuntimeWarning: subpackages can technically be lazily loaded, but it causes the package to be eagerly loaded even if it is already lazily loaded.So, you probably shouldn't use subpackages with this lazy feature.\n",
      "  warnings.warn(msg, RuntimeWarning)\n",
      "/home/cantabile/.local/lib/python3.10/site-packages/lazy_loader/__init__.py:185: RuntimeWarning: subpackages can technically be lazily loaded, but it causes the package to be eagerly loaded even if it is already lazily loaded.So, you probably shouldn't use subpackages with this lazy feature.\n",
      "  warnings.warn(msg, RuntimeWarning)\n"
     ]
    }
   ],
   "source": [
    "import pygame\n",
    "import pandas as pd\n",
    "import numpy as np\n",
    "from janitor import clean_names\n",
    "\n",
    "# my code\n",
    "import game_fns"
   ]
  },
  {
   "cell_type": "markdown",
   "metadata": {},
   "source": [
    "## Why I'm learning `pygame`\n",
    "\n",
    "I'm interested in learning `pygame` to explore how I can use data science to answer this question:\n",
    "\n",
    "> How does the probability of individual game events affect game outcomes of interest?\n",
    "\n",
    "I figure, in order to do this, I need a feeling for how game data is generated, the logic of the code that produces it. I actually see a lot of video game data at work, but we have a lot of exploratory and dev ops work before I will have time to work on models. This is a hobby project. \n",
    "\n",
    "I'm more interested in data science than in becoming a game developer (I _love_ my job), so a core component of my game is that it is simple in the ways that are not crucial to data analysis. For this reason, it's a satirical text-based anti-venture into `data theatre`.   \n",
    "\n",
    "## Some data science bits\n",
    "\n",
    "Keeping things simple, suppose the player only ever has two choices, and that these two choices carry weights specific to the game event. "
   ]
  },
  {
   "cell_type": "code",
   "execution_count": 2,
   "metadata": {},
   "outputs": [
    {
     "data": {
      "text/plain": [
       "'<table border=\"1\" class=\"dataframe\">\\n  <thead>\\n    <tr style=\"text-align: right;\">\\n      <th></th>\\n      <th>game_event</th>\\n      <th>bug_p</th>\\n      <th>feature_p</th>\\n      <th>fix_bug_p</th>\\n    </tr>\\n  </thead>\\n  <tbody>\\n    <tr>\\n      <th>0</th>\\n      <td>meeting</td>\\n      <td>0.5</td>\\n      <td>0.1</td>\\n      <td>0.2</td>\\n    </tr>\\n    <tr>\\n      <th>1</th>\\n      <td>development</td>\\n      <td>0.2</td>\\n      <td>0.2</td>\\n      <td>0.5</td>\\n    </tr>\\n    <tr>\\n      <th>2</th>\\n      <td>coffee</td>\\n      <td>0.2</td>\\n      <td>0.5</td>\\n      <td>0.5</td>\\n    </tr>\\n    <tr>\\n      <th>3</th>\\n      <td>debugging</td>\\n      <td>0.0</td>\\n      <td>0.0</td>\\n      <td>0.8</td>\\n    </tr>\\n  </tbody>\\n</table>'"
      ]
     },
     "execution_count": 2,
     "metadata": {},
     "output_type": "execute_result"
    }
   ],
   "source": [
    "# get game event meta information\n",
    "event_key = pd.read_csv(\"game-event-key.csv\")\n",
    "\n",
    "event_key.to_html()"
   ]
  },
  {
   "cell_type": "markdown",
   "metadata": {},
   "source": [
    "And I'm interested in hitting certain win and loss conditions.  "
   ]
  },
  {
   "cell_type": "code",
   "execution_count": 3,
   "metadata": {},
   "outputs": [
    {
     "data": {
      "text/plain": [
       "{'features': 3, 'bugs': 3}"
      ]
     },
     "execution_count": 3,
     "metadata": {},
     "output_type": "execute_result"
    }
   ],
   "source": [
    "game_fns.set_completion_params(features = 3, bugs = 3)"
   ]
  },
  {
   "cell_type": "markdown",
   "metadata": {},
   "source": [
    "### Data science questions to explore\n",
    "\n",
    "- What are the optimal probability mass functions for each game event that provide the given desired game outcome?\n",
    "- What are the optimal game outcomes for the given probability mass functions of the game events?"
   ]
  }
 ],
 "metadata": {
  "kernelspec": {
   "display_name": "Python 3",
   "language": "python",
   "name": "python3"
  },
  "language_info": {
   "codemirror_mode": {
    "name": "ipython",
    "version": 3
   },
   "file_extension": ".py",
   "mimetype": "text/x-python",
   "name": "python",
   "nbconvert_exporter": "python",
   "pygments_lexer": "ipython3",
   "version": "3.10.12"
  }
 },
 "nbformat": 4,
 "nbformat_minor": 2
}
